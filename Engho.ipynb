{
 "cells": [
  {
   "cell_type": "markdown",
   "metadata": {},
   "source": [
    "El punto de este script es analizar el gasto de los hogares en funcion del ingreso y otras variables. Buscar una correlacion alta "
   ]
  },
  {
   "cell_type": "code",
   "execution_count": 1,
   "metadata": {},
   "outputs": [
    {
     "name": "stdout",
     "output_type": "stream",
     "text": [
      "Número de filas en el DataFrame: 21547\n",
      "Número de columnas en el DataFrame: 134\n"
     ]
    }
   ],
   "source": [
    "import pandas as pd\n",
    "import requests\n",
    "from io import BytesIO\n",
    "from zipfile import ZipFile\n",
    "\n",
    "# URL del archivo zip\n",
    "url = \"https://www.indec.gob.ar/ftp/cuadros/menusuperior/engho/engho2018_hogares.zip\"\n",
    "\n",
    "# Descargar el contenido del archivo zip\n",
    "response = requests.get(url)\n",
    "zip_file = ZipFile(BytesIO(response.content))\n",
    "\n",
    "# Obtener la lista de archivos en el zip para encontrar el archivo .txt\n",
    "files = zip_file.namelist()\n",
    "\n",
    "# Encontrar el nombre del archivo .txt\n",
    "txt_file_name = [file for file in files if file.endswith('.txt')][0]\n",
    "\n",
    "# Leer el contenido del archivo .txt en un DataFrame de pandas\n",
    "with zip_file.open(txt_file_name) as file:\n",
    "    ENGHO = pd.read_csv(file, delimiter='|')\n",
    "\n",
    "\n",
    "print(\"Número de filas en el DataFrame:\", len(ENGHO))\n",
    "print(\"Número de columnas en el DataFrame:\", len(ENGHO.columns))\n",
    "\n"
   ]
  },
  {
   "cell_type": "markdown",
   "metadata": {},
   "source": []
  }
 ],
 "metadata": {
  "kernelspec": {
   "display_name": "base",
   "language": "python",
   "name": "python3"
  },
  "language_info": {
   "codemirror_mode": {
    "name": "ipython",
    "version": 3
   },
   "file_extension": ".py",
   "mimetype": "text/x-python",
   "name": "python",
   "nbconvert_exporter": "python",
   "pygments_lexer": "ipython3",
   "version": "3.12.4"
  }
 },
 "nbformat": 4,
 "nbformat_minor": 2
}
